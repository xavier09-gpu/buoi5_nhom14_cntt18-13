{
 "cells": [
  {
   "cell_type": "markdown",
   "metadata": {
    "id": "kwM86GWn10LI"
   },
   "source": [
    "a. Ví dụ minh họa"
   ]
  },
  {
   "cell_type": "code",
   "execution_count": 1,
   "metadata": {
    "colab": {
     "base_uri": "https://localhost:8080/"
    },
    "executionInfo": {
     "elapsed": 51,
     "status": "ok",
     "timestamp": 1751622612049,
     "user": {
      "displayName": "Nhan Nguyen",
      "userId": "13098471223571293492"
     },
     "user_tz": -420
    },
    "id": "BRmNikfF1xxa",
    "outputId": "7b0f2922-c19d-478a-bd3d-8d34afb1ca75"
   },
   "outputs": [
    {
     "name": "stdout",
     "output_type": "stream",
     "text": [
      "--- Giải Bài toán cái túi bằng Nhánh cận (đơn giản) ---\n",
      "Sức chứa túi tối đa: 8\n",
      "Các vật phẩm có sẵn: [(3, 5), (4, 7), (2, 4), (5, 8)]\n",
      "Tổng giá trị lớn nhất có thể đạt được: 13\n",
      "Các vật phẩm được chọn: [(3, 5), (5, 8)]\n"
     ]
    }
   ],
   "source": [
    "# Danh sách các vật phẩm: (trọng lượng, giá trị)\n",
    "VAT_PHAM = [(3, 5), (4, 7), (2, 4), (5, 8)]\n",
    "SUC_CHUA_TOI_DA = 8 # Sức chứa tối đa của túi\n",
    "\n",
    "# Biến toàn cục để lưu trữ giá trị tốt nhất tìm được và lựa chọn tương ứng\n",
    "GIA_TRI_TOI_DA_HIEN_TAI = 0\n",
    "LUA_CHON_TOT_NHAT_HIEN_TAI = []\n",
    "\n",
    "def giai_knapsack_bnbl_don_gian(idx, current_weight, current_value, current_selection):\n",
    "    \"\"\"\n",
    "    Hàm giải bài toán cái túi 0/1 bằng ý tưởng Nhánh cận đơn giản.\n",
    "    idx: Chỉ số của vật phẩm đang xét (bắt đầu từ 0).\n",
    "    current_weight: Trọng lượng hiện tại của các vật phẩm đã chọn.\n",
    "    current_value: Tổng giá trị hiện tại của các vật phẩm đã chọn.\n",
    "    current_selection: Danh sách các vật phẩm đã chọn cho đến nay.\n",
    "    \"\"\"\n",
    "    global GIA_TRI_TOI_DA_HIEN_TAI, LUA_CHON_TOT_NHAT_HIEN_TAI\n",
    "\n",
    "    # --- Cắt tỉa (Pruning) ---\n",
    "    # Nếu trọng lượng hiện tại đã vượt quá sức chứa của túi, nhánh này không hợp lệ\n",
    "    if current_weight > SUC_CHUA_TOI_DA:\n",
    "        return\n",
    "\n",
    "    # Nếu đây là một giải pháp (đã xét hết các vật phẩm)\n",
    "    # hoặc đây là một giải pháp tiềm năng (chưa vượt quá sức chứa và có thể tốt hơn)\n",
    "    if current_value > GIA_TRI_TOI_DA_HIEN_TAI:\n",
    "        GIA_TRI_TOI_DA_HIEN_TAI = current_value\n",
    "        LUA_CHON_TOT_NHAT_HIEN_TAI = list(current_selection) # Cần copy để không bị thay đổi\n",
    "\n",
    "    # Nếu đã xét hết tất cả vật phẩm, dừng nhánh này\n",
    "    if idx == len(VAT_PHAM):\n",
    "        return\n",
    "\n",
    "    # --- Nhánh (Branching) ---\n",
    "    # Lấy thông tin vật phẩm hiện tại\n",
    "    item_weight, item_value = VAT_PHAM[idx]\n",
    "\n",
    "    # 1. NHÁNH: CHỌN vật phẩm hiện tại\n",
    "    # Kiểm tra xem có thể chọn vật phẩm này mà không vượt quá sức chứa không\n",
    "    if current_weight + item_weight <= SUC_CHUA_TOI_DA:\n",
    "        giai_knapsack_bnbl_don_gian(\n",
    "            idx + 1, # Xét vật phẩm tiếp theo\n",
    "            current_weight + item_weight, # Trọng lượng tăng lên\n",
    "            current_value + item_value,   # Giá trị tăng lên\n",
    "            current_selection + [VAT_PHAM[idx]] # Thêm vật phẩm vào lựa chọn\n",
    "        )\n",
    "\n",
    "    # 2. NHÁNH: KHÔNG CHỌN vật phẩm hiện tại\n",
    "    # Luôn có thể không chọn một vật phẩm\n",
    "    # Để đơn giản, không tính cận trên phức tạp ở đây, chỉ dựa vào current_value\n",
    "    giai_knapsack_bnbl_don_gian(\n",
    "        idx + 1, # Xét vật phẩm tiếp theo\n",
    "        current_weight, # Trọng lượng không đổi\n",
    "        current_value,  # Giá trị không đổi\n",
    "        current_selection # Lựa chọn không đổi\n",
    "    )\n",
    "\n",
    "# Bắt đầu thuật toán từ vật phẩm đầu tiên (chỉ số 0), với túi rỗng\n",
    "print(\"--- Giải Bài toán cái túi bằng Nhánh cận (đơn giản) ---\")\n",
    "giai_knapsack_bnbl_don_gian(0, 0, 0, [])\n",
    "\n",
    "print(f\"Sức chứa túi tối đa: {SUC_CHUA_TOI_DA}\")\n",
    "print(f\"Các vật phẩm có sẵn: {VAT_PHAM}\")\n",
    "print(f\"Tổng giá trị lớn nhất có thể đạt được: {GIA_TRI_TOI_DA_HIEN_TAI}\")\n",
    "print(f\"Các vật phẩm được chọn: {LUA_CHON_TOT_NHAT_HIEN_TAI}\")\n"
   ]
  },
  {
   "cell_type": "markdown",
   "metadata": {
    "id": "S_jTHuqb2Bn6"
   },
   "source": [
    "b. Yêu cầu sinh viên sửa và lý giải:\n",
    "\n",
    "•\tThay đổi SUC_CHUA_TOI_DA và danh sách VAT_PHAM (ví dụ: thêm/bớt vật phẩm, thay đổi trọng lượng/giá trị). Chạy lại chương trình và quan sát kết quả.\n",
    "\n",
    "•\tGiải thích vai trò của GIA_TRI_TOI_DA_HIEN_TAI và cách nó giúp chương trình \"cắt tỉa\" (loại bỏ bớt các trường hợp không cần xét tiếp) một cách đơn giản.\n",
    "\n",
    "•\tGợi ý nâng cao: Thử thêm một biến vào hàm để đếm số lần hàm được gọi (để ước lượng số lượng \"nhánh\" đã xét). Quan sát số lần gọi hàm khi thay đổi các giá trị đầu vào.\n"
   ]
  },
  {
   "cell_type": "code",
   "execution_count": null,
   "metadata": {
    "id": "mtsZbwyS17hf"
   },
   "outputs": [],
   "source": [
    "\n",
    "GIA_TRI = [40, 30, 50, 10]\n",
    "TRONG_LUONG = [2, 5, 10, 5]\n",
    "SUC_CHUA_TUI = 16\n",
    "\n",
    "gia_tri_tot_nhat = 0\n",
    "lua_chon_tot_nhat = []\n",
    "\n",
    "def quay_lui(i, current_weight, current_value, current_selection):\n",
    "    global gia_tri_tot_nhat, lua_chon_tot_nhat\n",
    "\n",
    "    if i == len(GIA_TRI):\n",
    "        if current_value > gia_tri_tot_nhat:\n",
    "            gia_tri_tot_nhat = current_value\n",
    "            lua_chon_tot_nhat = current_selection[:]\n",
    "        return\n",
    "\n",
    "    quay_lui(i+1, current_weight, current_value, current_selection)\n",
    "\n",
    "    if current_weight + TRONG_LUONG[i] <= SUC_CHUA_TUI:\n",
    "        current_selection.append(i)\n",
    "        quay_lui(i+1,\n",
    "                 current_weight + TRONG_LUONG[i],\n",
    "                 current_value + GIA_TRI[i],\n",
    "                 current_selection)\n",
    "        current_selection.pop()\n",
    "\n",
    "quay_lui(0, 0, 0, [])\n",
    "\n",
    "print(\"Giá trị tối ưu:\", gia_tri_tot_nhat)\n",
    "print(\"Các vật được chọn (theo chỉ số):\", lua_chon_tot_nhat)\n",
    "print(\"Chi tiết các vật phẩm đã chọn:\")\n",
    "tong_trong_luong = 0\n",
    "for idx in lua_chon_tot_nhat:\n",
    "    print(f\"  Vật {idx} -> Giá trị = {GIA_TRI[idx]}, Trọng lượng = {TRONG_LUONG[idx]}\")\n",
    "    tong_trong_luong += TRONG_LUONG[idx]\n",
    "print(\"Tổng trọng lượng:\", tong_trong_luong)\n"
   ]
  }
 ],
 "metadata": {
  "colab": {
   "authorship_tag": "ABX9TyONl6vwubw4L9kcWN8OOK6Q",
   "provenance": []
  },
  "kernelspec": {
   "display_name": "Python 3",
   "name": "python3"
  },
  "language_info": {
   "name": "python"
  }
 },
 "nbformat": 4,
 "nbformat_minor": 0
}
